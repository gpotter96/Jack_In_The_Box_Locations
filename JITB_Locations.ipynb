{
 "cells": [
  {
   "cell_type": "code",
   "execution_count": null,
   "metadata": {},
   "outputs": [],
   "source": [
    "import pandas as pd\n",
    "from bs4 import BeautifulSoup\n",
    "import requests\n",
    "import cloudscraper\n",
    "import csv\n",
    "import numpy as np\n",
    "import re\n",
    "\n",
    "location_pattern = re.compile('.?\\.?us.?\\.?')"
   ]
  },
  {
   "cell_type": "code",
   "execution_count": null,
   "metadata": {},
   "outputs": [],
   "source": [
    "scraper = cloudscraper.create_scraper(debug=True)\n",
    "states = []\n",
    "\n",
    "url = 'https://locations.jackinthebox.com/us'\n",
    "\n",
    "scrape_data = scraper.get(url).text\n",
    "soup = BeautifulSoup(scrape_data)\n",
    "\n",
    "for row in soup.find_all('a', href=True):\n",
    "    states.append(row.get('href'))\n",
    "\n",
    "states = [x for x in states if location_pattern.match(x)]"
   ]
  },
  {
   "cell_type": "code",
   "execution_count": null,
   "metadata": {},
   "outputs": [],
   "source": [
    "cities = []\n",
    "\n",
    "for x in states:\n",
    "    url = 'https://locations.jackinthebox.com'\n",
    "    url += x\n",
    "\n",
    "    scrape_data = scraper.get(url).text\n",
    "    soup = BeautifulSoup(scrape_data)\n",
    "    \n",
    "    for row in soup.find_all('a', href=True):\n",
    "        cities.append(row.get('href'))\n",
    "\n",
    "cities = [x for x in cities if location_pattern.match(x)]"
   ]
  },
  {
   "cell_type": "code",
   "execution_count": null,
   "metadata": {},
   "outputs": [],
   "source": [
    "locations = []\n",
    "\n",
    "for x in cities:\n",
    "    url = 'https://locations.jackinthebox.com'\n",
    "    url += x\n",
    "\n",
    "    scrape_data = scraper.get(url).text\n",
    "    soup = BeautifulSoup(scrape_data)\n",
    "    \n",
    "    for row in soup.find_all('a', href=True):\n",
    "        locations.append(row.get('href'))\n",
    "\n",
    "locations = [x for x in locations if location_pattern.match(x)]"
   ]
  },
  {
   "cell_type": "code",
   "execution_count": null,
   "metadata": {},
   "outputs": [],
   "source": [
    "locations_final_df = pd.DataFrame(set(locations) - set(cities) - set(states))\n",
    "locations_final_df.rename(columns={0: 'raw_url'}, inplace=True)\n",
    "\n",
    "locations_final_df[['abc', 'country', 'state', 'city', 'address']] = locations_final_df['raw_url'].str.split('/', expand=True)\n",
    "locations_final_df.drop(columns='abc', inplace = True)\n",
    "\n",
    "locations_final_df.to_csv('JITB_Locations_20250507.csv')"
   ]
  }
 ],
 "metadata": {
  "kernelspec": {
   "display_name": "Python 3",
   "language": "python",
   "name": "python3"
  },
  "language_info": {
   "codemirror_mode": {
    "name": "ipython",
    "version": 3
   },
   "file_extension": ".py",
   "mimetype": "text/x-python",
   "name": "python",
   "nbconvert_exporter": "python",
   "pygments_lexer": "ipython3",
   "version": "3.12.4"
  }
 },
 "nbformat": 4,
 "nbformat_minor": 2
}
